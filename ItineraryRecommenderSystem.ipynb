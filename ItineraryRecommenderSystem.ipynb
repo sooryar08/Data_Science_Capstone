{
 "cells": [
  {
   "cell_type": "markdown",
   "metadata": {},
   "source": [
    "# Itinerary Recommender System\n",
    "### Applied Data Science Capstone Project "
   ]
  },
  {
   "cell_type": "markdown",
   "metadata": {},
   "source": [
    "### Introduction\n",
    "<p>The purpose of this project is to recommend a user to help prepare an efficient itinerary given the number of days as a constraint. The making of an itinerary becomes a tedious process especially when the place of travel is unknown.This project mainly will interest the tourists and people who travel for business. This project can also be adopted by government to improve income via tourism. With good and reliable opinions from locals and guides, and a lot more trusting data, this project will recommend the user with a good number of possible of travel circuits just by taking the travel area and number of days to be spent on it.</p>"
   ]
  },
  {
   "cell_type": "markdown",
   "metadata": {},
   "source": [
    "### Data\n",
    "The project uses the distance from Country/State/District/City chosen and the recommemded places to visit to make the itineray. This project uses <b>Foursquare APIs</b> to generate one or more itineraries for given number of days of travel."
   ]
  }
 ],
 "metadata": {
  "kernelspec": {
   "display_name": "Python 3",
   "language": "python",
   "name": "python3"
  },
  "language_info": {
   "codemirror_mode": {
    "name": "ipython",
    "version": 3
   },
   "file_extension": ".py",
   "mimetype": "text/x-python",
   "name": "python",
   "nbconvert_exporter": "python",
   "pygments_lexer": "ipython3",
   "version": "3.7.4"
  }
 },
 "nbformat": 4,
 "nbformat_minor": 2
}
